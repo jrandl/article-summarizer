{
 "cells": [
  {
   "cell_type": "markdown",
   "metadata": {},
   "source": [
    "# Web Mining and Applied NLP (44-620)\n",
    "\n",
    "## Final Project: Article Summarizer\n",
    "\n",
    "### Student Name: Josiah Randleman\n",
    "\n",
    "### GitHub Profile Link: https://github.com/jrandl\n",
    "\n",
    "### GitHub Repo Link: https://github.com/jrandl/article-summarizer\n",
    "\n",
    "Perform the tasks described in the Markdown cells below.  When you have completed the assignment make sure your code cells have all been run (and have output beneath them) and ensure you have committed and pushed ALL of your changes to your assignment repository.\n",
    "\n",
    "You should bring in code from previous assignments to help you answer the questions below.\n",
    "\n",
    "Every question that requires you to write code will have a code cell underneath it; you may either write your entire solution in that cell or write it in a python file (`.py`), then import and run the appropriate code to answer the question."
   ]
  },
  {
   "cell_type": "markdown",
   "metadata": {},
   "source": [
    "### Imports:"
   ]
  },
  {
   "cell_type": "code",
   "execution_count": 1,
   "metadata": {},
   "outputs": [
    {
     "name": "stdout",
     "output_type": "stream",
     "text": [
      "All prereqs installed.\n",
      "Package                   Version\n",
      "------------------------- ----------------\n",
      "annotated-types           0.7.0\n",
      "apturl                    0.5.2\n",
      "asttokens                 2.4.1\n",
      "attrs                     24.2.0\n",
      "bcrypt                    3.2.0\n",
      "beautifulsoup4            4.12.3\n",
      "bleach                    6.2.0\n",
      "blinker                   1.4\n",
      "blis                      1.0.1\n",
      "Brlapi                    0.8.3\n",
      "catalogue                 2.0.10\n",
      "certifi                   2020.6.20\n",
      "chardet                   4.0.0\n",
      "click                     8.0.3\n",
      "cloudpathlib              0.20.0\n",
      "colorama                  0.4.4\n",
      "comm                      0.2.2\n",
      "command-not-found         0.3\n",
      "confection                0.1.5\n",
      "contourpy                 1.3.1\n",
      "cryptography              3.4.8\n",
      "cupshelpers               1.0\n",
      "cycler                    0.12.1\n",
      "cymem                     2.0.8\n",
      "dbus-python               1.2.18\n",
      "debugpy                   1.8.8\n",
      "decorator                 5.1.1\n",
      "defer                     1.0.6\n",
      "defusedxml                0.7.1\n",
      "distro                    1.7.0\n",
      "distro-info               1.1+ubuntu0.2\n",
      "dnspython                 2.1.0\n",
      "duplicity                 0.8.21\n",
      "en_core_web_sm            3.8.0\n",
      "exceptiongroup            1.2.2\n",
      "executing                 2.1.0\n",
      "fasteners                 0.14.1\n",
      "fastjsonschema            2.20.0\n",
      "fonttools                 4.55.0\n",
      "future                    0.18.2\n",
      "gpg                       1.16.0\n",
      "httplib2                  0.20.2\n",
      "idna                      3.3\n",
      "importlib-metadata        4.6.4\n",
      "ipykernel                 6.29.5\n",
      "ipython                   8.29.0\n",
      "jedi                      0.19.2\n",
      "jeepney                   0.7.1\n",
      "Jinja2                    3.1.4\n",
      "joblib                    1.4.2\n",
      "jsonschema                4.23.0\n",
      "jsonschema-specifications 2024.10.1\n",
      "jupyter_client            8.6.3\n",
      "jupyter_core              5.7.2\n",
      "jupyterlab_pygments       0.3.0\n",
      "keyring                   23.5.0\n",
      "kiwisolver                1.4.7\n",
      "langcodes                 3.4.1\n",
      "language_data             1.2.0\n",
      "language-selector         0.1\n",
      "launchpadlib              1.10.16\n",
      "lazr.restfulclient        0.14.4\n",
      "lazr.uri                  1.0.6\n",
      "lockfile                  0.12.2\n",
      "louis                     3.20.0\n",
      "macaroonbakery            1.3.1\n",
      "Mako                      1.1.3\n",
      "marisa-trie               1.2.1\n",
      "Markdown                  3.3.6\n",
      "markdown-it-py            3.0.0\n",
      "MarkupSafe                2.0.1\n",
      "matplotlib                3.9.2\n",
      "matplotlib-inline         0.1.7\n",
      "mdurl                     0.1.2\n",
      "mistune                   3.0.2\n",
      "monotonic                 1.6\n",
      "more-itertools            8.10.0\n",
      "murmurhash                1.0.10\n",
      "nbclient                  0.10.0\n",
      "nbconvert                 7.16.4\n",
      "nbformat                  5.10.4\n",
      "nest-asyncio              1.6.0\n",
      "netifaces                 0.11.0\n",
      "nltk                      3.9.1\n",
      "numpy                     2.0.2\n",
      "oauthlib                  3.2.0\n",
      "olefile                   0.46\n",
      "packaging                 24.2\n",
      "pandocfilters             1.5.1\n",
      "paramiko                  2.9.3\n",
      "parso                     0.8.4\n",
      "pexpect                   4.8.0\n",
      "Pillow                    9.0.1\n",
      "pip                       24.3.1\n",
      "platformdirs              4.3.6\n",
      "preshed                   3.0.9\n",
      "prompt_toolkit            3.0.48\n",
      "protobuf                  3.12.4\n",
      "psutil                    6.1.0\n",
      "ptyprocess                0.7.0\n",
      "pure_eval                 0.2.3\n",
      "pycairo                   1.20.1\n",
      "pycups                    2.0.1\n",
      "pydantic                  2.9.2\n",
      "pydantic_core             2.23.4\n",
      "Pygments                  2.18.0\n",
      "PyGObject                 3.42.1\n",
      "PyJWT                     2.3.0\n",
      "pymacaroons               0.13.0\n",
      "PyNaCl                    1.5.0\n",
      "pyparsing                 2.4.7\n",
      "pyRFC3339                 1.1\n",
      "python-apt                2.4.0+ubuntu4\n",
      "python-dateutil           2.9.0.post0\n",
      "python-debian             0.1.43+ubuntu1.1\n",
      "pytz                      2022.1\n",
      "pyxdg                     0.27\n",
      "PyYAML                    5.4.1\n",
      "pyzmq                     26.2.0\n",
      "referencing               0.35.1\n",
      "regex                     2024.11.6\n",
      "reportlab                 3.6.8\n",
      "requests                  2.25.1\n",
      "requests-toolbelt         0.9.1\n",
      "rich                      13.9.4\n",
      "rpds-py                   0.21.0\n",
      "SecretStorage             3.3.1\n",
      "setuptools                75.5.0\n",
      "shellingham               1.5.4\n",
      "six                       1.16.0\n",
      "smart-open                7.0.5\n",
      "soupsieve                 2.6\n",
      "spacy                     3.8.2\n",
      "spacy-legacy              3.0.12\n",
      "spacy-loggers             1.0.5\n",
      "spacytextblob             5.0.0\n",
      "srsly                     2.4.8\n",
      "stack-data                0.6.3\n",
      "systemd-python            234\n",
      "textblob                  0.18.0.post0\n",
      "thinc                     8.3.2\n",
      "tinycss2                  1.4.0\n",
      "tornado                   6.4.1\n",
      "tqdm                      4.67.0\n",
      "traitlets                 5.14.3\n",
      "typer                     0.13.0\n",
      "typing_extensions         4.12.2\n",
      "ubuntu-drivers-common     0.0.0\n",
      "ubuntu-pro-client         8001\n",
      "ufw                       0.36.1\n",
      "unattended-upgrades       0.1\n",
      "urllib3                   1.26.5\n",
      "usb-creator               0.3.7\n",
      "wadllib                   1.3.6\n",
      "wasabi                    1.1.3\n",
      "wcwidth                   0.2.13\n",
      "weasel                    0.4.1\n",
      "webencodings              0.5.1\n",
      "wheel                     0.45.0\n",
      "wrapt                     1.16.0\n",
      "xdg                       5\n",
      "xkit                      0.0.0\n",
      "zipp                      1.0.0\n"
     ]
    }
   ],
   "source": [
    "from collections import Counter\n",
    "import pickle\n",
    "import requests\n",
    "import spacy\n",
    "from bs4 import BeautifulSoup\n",
    "import matplotlib.pyplot as plt\n",
    "import json\n",
    "from spacytextblob.spacytextblob import SpacyTextBlob\n",
    "\n",
    "print('All prereqs installed.')\n",
    "!pip list"
   ]
  },
  {
   "cell_type": "markdown",
   "metadata": {},
   "source": [
    "### Question 1:"
   ]
  },
  {
   "cell_type": "markdown",
   "metadata": {},
   "source": [
    "1. Find on the internet an article or blog post about a topic that interests you and you are able to get the text for using the technologies we have applied in the course.  Get the html for the article and store it in a file (which you must submit with your project)"
   ]
  },
  {
   "cell_type": "code",
   "execution_count": 3,
   "metadata": {},
   "outputs": [],
   "source": [
    "import requests\n",
    "\n",
    "from bs4 import BeautifulSoup\n",
    "\n",
    "import pickle\n",
    "\n",
    "def extract_and_save_html(url, filename=\"article.pkl\"):\n",
    "\n",
    "    response = requests.get(url)\n",
    "\n",
    "    response.raise_for_status()  # Raise an error if request fails\n",
    "\n",
    "    soup = BeautifulSoup(response.content, 'html.parser')\n",
    "\n",
    "    html_content = str(soup)\n",
    "\n",
    "\n",
    "\n",
    "    with open(filename, 'wb') as f:\n",
    "\n",
    "        pickle.dump(html_content, f)\n",
    "\n",
    "link_to_article = \"https://www.livescience.com/technology/artificial-intelligence/meet-chameleon-an-ai-model-that-can-protect-you-from-facial-recognition-thanks-to-a-sophisticated-digital-mask\"\n",
    "\n",
    "extract_and_save_html(link_to_article) \n"
   ]
  },
  {
   "cell_type": "markdown",
   "metadata": {},
   "source": [
    "### Question 2:"
   ]
  },
  {
   "cell_type": "markdown",
   "metadata": {},
   "source": [
    "2. Read in your article's html source from the file you created in question 1 and do sentiment analysis on the article/post's text (use `.get_text()`).  Print the polarity score with an appropriate label.  Additionally print the number of sentences in the original article (with an appropriate label)"
   ]
  },
  {
   "cell_type": "code",
   "execution_count": 10,
   "metadata": {},
   "outputs": [
    {
     "name": "stdout",
     "output_type": "stream",
     "text": [
      "Polarity Score of Article:  0.010617715617715613\n",
      "Number of Sentences In Article:  22\n"
     ]
    }
   ],
   "source": [
    "import pickle\n",
    "from bs4 import BeautifulSoup\n",
    "import spacy\n",
    "from spacytextblob.spacytextblob import SpacyTextBlob\n",
    "\n",
    "file_name = 'article.pkl'\n",
    "\n",
    "# Load the HTML content from the pickle file\n",
    "with open(file_name, 'rb') as webpage:\n",
    "    data = pickle.load(webpage)\n",
    "\n",
    "# Parse the HTML with BeautifulSoup\n",
    "soup = BeautifulSoup(data, 'html.parser')\n",
    "\n",
    "# Extract the article content from the specific div\n",
    "article = soup.find('div', id='article-body', class_='text-copy bodyCopy auto')\n",
    "\n",
    "# Extract the plain text from the article\n",
    "article_text = article.get_text(separator=\"\\n\").strip() if article else \"Article content not found.\"\n",
    "\n",
    "# Run SpacyTextBlob for sentiment analysis\n",
    "nlp = spacy.load('en_core_web_sm')\n",
    "nlp.add_pipe('spacytextblob')\n",
    "doc = nlp(article_text)\n",
    "polarity = doc._.blob.polarity\n",
    "\n",
    "# Print polarity score\n",
    "print(\"Polarity Score of Article: \", polarity)\n",
    "\n",
    "# Print the number of sentences\n",
    "print(\"Number of Sentences In Article: \", format(len(list(doc.sents))))"
   ]
  },
  {
   "cell_type": "markdown",
   "metadata": {},
   "source": [
    "### Question 3:"
   ]
  },
  {
   "cell_type": "markdown",
   "metadata": {},
   "source": [
    "3. Load the article text into a trained `spaCy` pipeline, and determine the 5 most frequent tokens (converted to lower case).  Print the common tokens with an appropriate label.  Additionally, print the tokens their frequencies (with appropriate labels)"
   ]
  },
  {
   "cell_type": "code",
   "execution_count": 11,
   "metadata": {},
   "outputs": [
    {
     "name": "stdout",
     "output_type": "stream",
     "text": [
      "Top 5 most frequent tokens:\n",
      "Token: 'chameleon', Frequency: 10\n",
      "Token: 'ai', Frequency: 7\n",
      "Token: 'image', Frequency: 7\n",
      "Token: 'facial', Frequency: 6\n",
      "Token: 'models', Frequency: 6\n"
     ]
    }
   ],
   "source": [
    "import spacy\n",
    "from collections import Counter\n",
    "\n",
    "# Load the spaCy pipeline\n",
    "nlp = spacy.load(\"en_core_web_sm\")\n",
    "\n",
    "# Input text\n",
    "text = article_text\n",
    "\n",
    "# Process the text\n",
    "doc = nlp(text)\n",
    "\n",
    "# Filter out stop words, punctuation, and whitespace, and convert tokens to lowercase\n",
    "words = [token.text.lower() for token in doc if not token.is_stop and not token.is_punct and not token.is_space]\n",
    "\n",
    "# Count the frequency of each filtered word\n",
    "word_freq = Counter(words)\n",
    "\n",
    "# Get the 5 most frequent words\n",
    "top_5_words = word_freq.most_common(5)\n",
    "\n",
    "# Print the results with appropriate labels\n",
    "print(\"Top 5 most frequent tokens:\")\n",
    "for word, freq in top_5_words:\n",
    "    print(f\"Token: '{word}', Frequency: {freq}\")"
   ]
  },
  {
   "cell_type": "markdown",
   "metadata": {},
   "source": [
    "### Question 4:"
   ]
  },
  {
   "cell_type": "markdown",
   "metadata": {},
   "source": [
    "4. Load the article text into a trained `spaCy` pipeline, and determine the 5 most frequent lemmas (converted to lower case).  Print the common lemmas with an appropriate label.  Additionally, print the lemmas with their frequencies (with appropriate labels)."
   ]
  },
  {
   "cell_type": "code",
   "execution_count": 12,
   "metadata": {},
   "outputs": [
    {
     "name": "stdout",
     "output_type": "stream",
     "text": [
      "Top 5 most frequent lemmas:\n",
      "Lemma: 'image', Frequency: 12\n",
      "Lemma: 'chameleon', Frequency: 10\n",
      "Lemma: 'model', Frequency: 8\n",
      "Lemma: 'ai', Frequency: 7\n",
      "Lemma: 'facial', Frequency: 6\n"
     ]
    }
   ],
   "source": [
    "import spacy\n",
    "from collections import Counter\n",
    "\n",
    "# Load the spaCy pipeline\n",
    "nlp = spacy.load(\"en_core_web_sm\")\n",
    "\n",
    "# Input text\n",
    "text = article_text\n",
    "\n",
    "# Process the text\n",
    "doc = nlp(text)\n",
    "\n",
    "# Filter out stop words, punctuation, and whitespace, and get lemmas in lowercase\n",
    "lemmas = [token.lemma_.lower() for token in doc if not token.is_stop and not token.is_punct and not token.is_space]\n",
    "\n",
    "# Count the frequency of each lemma\n",
    "lemma_freq = Counter(lemmas)\n",
    "\n",
    "# Get the 5 most frequent lemmas\n",
    "top_5_lemmas = lemma_freq.most_common(5)\n",
    "\n",
    "# Print the results with appropriate labels\n",
    "print(\"Top 5 most frequent lemmas:\")\n",
    "for lemma, freq in top_5_lemmas:\n",
    "    print(f\"Lemma: '{lemma}', Frequency: {freq}\")"
   ]
  },
  {
   "cell_type": "markdown",
   "metadata": {},
   "source": [
    "### Question 5:"
   ]
  },
  {
   "cell_type": "markdown",
   "metadata": {},
   "source": [
    "5. Make a list containing the scores (using tokens) of every sentence in the article, and plot a histogram with appropriate titles and axis labels of the scores. From your histogram, what seems to be the most common range of scores (put the answer in a comment after your code)?"
   ]
  },
  {
   "cell_type": "code",
   "execution_count": 20,
   "metadata": {},
   "outputs": [
    {
     "name": "stdout",
     "output_type": "stream",
     "text": [
      "Polarity Score of Article:  0.010617715617715613\n",
      "Number of Sentences In Article:  22\n"
     ]
    },
    {
     "data": {
      "text/plain": [
       "([<matplotlib.axis.YTick at 0x7c3dd7650f10>,\n",
       "  <matplotlib.axis.YTick at 0x7c3dd7653340>,\n",
       "  <matplotlib.axis.YTick at 0x7c3dd6f210f0>,\n",
       "  <matplotlib.axis.YTick at 0x7c3dd7c274f0>,\n",
       "  <matplotlib.axis.YTick at 0x7c3dd7c25d80>,\n",
       "  <matplotlib.axis.YTick at 0x7c3dd6f651b0>,\n",
       "  <matplotlib.axis.YTick at 0x7c3dd6f678b0>,\n",
       "  <matplotlib.axis.YTick at 0x7c3dd6f65750>,\n",
       "  <matplotlib.axis.YTick at 0x7c3dd6f65ea0>,\n",
       "  <matplotlib.axis.YTick at 0x7c3dd6f67310>,\n",
       "  <matplotlib.axis.YTick at 0x7c3dd867e5f0>,\n",
       "  <matplotlib.axis.YTick at 0x7c3dd867c820>,\n",
       "  <matplotlib.axis.YTick at 0x7c3dd867c2b0>],\n",
       " [Text(0, 0, '0'),\n",
       "  Text(0, 1, '1'),\n",
       "  Text(0, 2, '2'),\n",
       "  Text(0, 3, '3'),\n",
       "  Text(0, 4, '4'),\n",
       "  Text(0, 5, '5'),\n",
       "  Text(0, 6, '6'),\n",
       "  Text(0, 7, '7'),\n",
       "  Text(0, 8, '8'),\n",
       "  Text(0, 9, '9'),\n",
       "  Text(0, 10, '10'),\n",
       "  Text(0, 11, '11'),\n",
       "  Text(0, 12, '12')])"
      ]
     },
     "execution_count": 20,
     "metadata": {},
     "output_type": "execute_result"
    },
    {
     "data": {
      "image/png": "[encoded data removed]",
      "text/plain": [
       "<Figure size 1000x600 with 1 Axes>"
      ]
     },
     "metadata": {},
     "output_type": "display_data"
    }
   ],
   "source": [
    "# Initialize the SpaCy pipeline and add SpacyTextBlob\n",
    "nlp = spacy.load('en_core_web_sm')\n",
    "if 'spacytextblob' not in nlp.pipe_names:\n",
    "    nlp.add_pipe('spacytextblob', last=True)\n",
    "\n",
    "# Process the article text\n",
    "doc = nlp(article_text)\n",
    "\n",
    "# Calculate sentiment polarity for each sentence\n",
    "sentence_scores = [sent._.blob.polarity for sent in doc.sents]\n",
    "\n",
    "# Calculate the overall polarity of the article\n",
    "polarity = doc._.blob.polarity\n",
    "\n",
    "# Print polarity score for the entire article\n",
    "print(\"Polarity Score of Article: \", polarity)\n",
    "\n",
    "# Print the number of sentences in the article\n",
    "num_sentences = len(list(doc.sents))\n",
    "print(\"Number of Sentences In Article: \", num_sentences)\n",
    "\n",
    "# Plot a histogram of the sentence polarity scores\n",
    "plt.figure(figsize=(10, 6))\n",
    "n, bins, patches = plt.hist(sentence_scores, bins=10, edgecolor='black')\n",
    "plt.title('Histogram of Sentence Polarity Scores')\n",
    "plt.xlabel('Polarity Score')\n",
    "plt.ylabel('Frequency')\n",
    "plt.grid(axis='y', linestyle='--', alpha=0.7)\n",
    "\n",
    "# Set x-axis ticks for all bin edges\n",
    "plt.xticks(bins.round(1))  # Round bin edges to 2 decimal places for clarity\n",
    "\n",
    "# Set y-axis ticks from 0 to the maximum frequency\n",
    "plt.yticks(range(0, int(n.max()) + 1))"
   ]
  },
  {
   "cell_type": "markdown",
   "metadata": {},
   "source": [
    "### Question 6:"
   ]
  },
  {
   "cell_type": "markdown",
   "metadata": {},
   "source": [
    "6. Make a list containing the scores (using lemmas) of every sentence in the article, and plot a histogram with appropriate titles and axis labels of the scores.  From your histogram, what seems to be the most common range of scores (put the answer in a comment after your code)?"
   ]
  },
  {
   "cell_type": "code",
   "execution_count": null,
   "metadata": {},
   "outputs": [],
   "source": []
  },
  {
   "cell_type": "markdown",
   "metadata": {},
   "source": [
    "### Question 7:"
   ]
  },
  {
   "cell_type": "markdown",
   "metadata": {},
   "source": [
    "7. Using the histograms from questions 5 and 6, decide a \"cutoff\" score for tokens and lemmas such that fewer than half the sentences would have a score greater than the cutoff score.  Record the scores in this Markdown cell\n",
    "\n",
    "* Cutoff Score (tokens): \n",
    "* Cutoff Score (lemmas):\n",
    "\n",
    "Feel free to change these scores as you generate your summaries.  Ideally, we're shooting for at least 6 sentences for our summary, but don't want more than 10 (these numbers are rough estimates; they depend on the length of your article)."
   ]
  },
  {
   "cell_type": "markdown",
   "metadata": {},
   "source": [
    "### Question 8:"
   ]
  },
  {
   "cell_type": "markdown",
   "metadata": {},
   "source": [
    "8. Create a summary of the article by going through every sentence in the article and adding it to an (initially) empty list if its score (based on tokens) is greater than the cutoff score you identified in question 8.  If your loop variable is named `sent`, you may find it easier to add `sent.text.strip()` to your list of sentences.  Print the summary (I would cleanly generate the summary text by `join`ing the strings in your list together with a space (`' '.join(sentence_list)`)."
   ]
  },
  {
   "cell_type": "code",
   "execution_count": null,
   "metadata": {},
   "outputs": [],
   "source": []
  },
  {
   "cell_type": "markdown",
   "metadata": {},
   "source": [
    "### Question 9:"
   ]
  },
  {
   "cell_type": "markdown",
   "metadata": {},
   "source": [
    "9. Print the polarity score of your summary you generated with the token scores (with an appropriate label). Additionally, print the number of sentences in the summarized article."
   ]
  },
  {
   "cell_type": "code",
   "execution_count": null,
   "metadata": {},
   "outputs": [],
   "source": []
  },
  {
   "cell_type": "markdown",
   "metadata": {},
   "source": [
    "### Question 10:"
   ]
  },
  {
   "cell_type": "markdown",
   "metadata": {},
   "source": [
    "10. Create a summary of the article by going through every sentence in the article and adding it to an (initially) empty list if its score (based on lemmas) is greater than the cutoff score you identified in question 8.  If your loop variable is named `sent`, you may find it easier to add `sent.text.strip()` to your list of sentences.  Print the summary (I would cleanly generate the summary text by `join`ing the strings in your list together with a space (`' '.join(sentence_list)`)."
   ]
  },
  {
   "cell_type": "code",
   "execution_count": null,
   "metadata": {},
   "outputs": [],
   "source": []
  },
  {
   "cell_type": "markdown",
   "metadata": {},
   "source": [
    "### Question 11:"
   ]
  },
  {
   "cell_type": "markdown",
   "metadata": {},
   "source": [
    "11. Print the polarity score of your summary you generated with the lemma scores (with an appropriate label). Additionally, print the number of sentences in the summarized article."
   ]
  },
  {
   "cell_type": "code",
   "execution_count": null,
   "metadata": {},
   "outputs": [],
   "source": []
  },
  {
   "cell_type": "markdown",
   "metadata": {},
   "source": [
    "### Question 12:"
   ]
  },
  {
   "cell_type": "markdown",
   "metadata": {},
   "source": [
    "12.  Compare your polarity scores of your summaries to the polarity scores of the initial article.  Is there a difference?  Why do you think that may or may not be?.  Answer in this Markdown cell.  "
   ]
  },
  {
   "cell_type": "markdown",
   "metadata": {},
   "source": [
    "### Question 13:"
   ]
  },
  {
   "cell_type": "markdown",
   "metadata": {},
   "source": [
    "13. Based on your reading of the original article, which summary do you think is better (if there's a difference).  Why do you think this might be?"
   ]
  }
 ],
 "metadata": {
  "kernelspec": {
   "display_name": "Python 3",
   "language": "python",
   "name": "python3"
  },
  "language_info": {
   "codemirror_mode": {
    "name": "ipython",
    "version": 3
   },
   "file_extension": ".py",
   "mimetype": "text/x-python",
   "name": "python",
   "nbconvert_exporter": "python",
   "pygments_lexer": "ipython3",
   "version": "3.10.12"
  }
 },
 "nbformat": 4,
 "nbformat_minor": 4
}
